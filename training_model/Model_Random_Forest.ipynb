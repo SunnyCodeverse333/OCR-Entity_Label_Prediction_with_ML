{
 "cells": [
  {
   "cell_type": "code",
   "execution_count": 3,
   "id": "eeb7d554-b040-45fe-a248-596e6a83ec60",
   "metadata": {},
   "outputs": [],
   "source": [
    "import pandas as pd\n",
    "import numpy as np"
   ]
  },
  {
   "cell_type": "code",
   "execution_count": 4,
   "id": "e2e5c571-6d09-4ae1-a14f-eedd5ef0c36b",
   "metadata": {},
   "outputs": [],
   "source": [
    "import os \n",
    "dir = r\"C:\\Users\\HP\\Downloads\\proj\\dataset\\train\\boxes_transcripts_labels\"\n",
    "list_items = os.listdir(dir)\n"
   ]
  },
  {
   "cell_type": "code",
   "execution_count": 5,
   "id": "2a143a4f-6e90-49a1-8f11-143e3088f03c",
   "metadata": {},
   "outputs": [
    {
     "data": {
      "text/html": [
       "<div>\n",
       "<style scoped>\n",
       "    .dataframe tbody tr th:only-of-type {\n",
       "        vertical-align: middle;\n",
       "    }\n",
       "\n",
       "    .dataframe tbody tr th {\n",
       "        vertical-align: top;\n",
       "    }\n",
       "\n",
       "    .dataframe thead th {\n",
       "        text-align: right;\n",
       "    }\n",
       "</style>\n",
       "<table border=\"1\" class=\"dataframe\">\n",
       "  <thead>\n",
       "    <tr style=\"text-align: right;\">\n",
       "      <th></th>\n",
       "      <th>start_index</th>\n",
       "      <th>end_index</th>\n",
       "      <th>top_left_x</th>\n",
       "      <th>top_left_y</th>\n",
       "      <th>bottom_right_x</th>\n",
       "      <th>bottom_right_y</th>\n",
       "      <th>label_text</th>\n",
       "    </tr>\n",
       "  </thead>\n",
       "  <tbody>\n",
       "    <tr>\n",
       "      <th>0</th>\n",
       "      <td>33</td>\n",
       "      <td>33</td>\n",
       "      <td>215</td>\n",
       "      <td>4</td>\n",
       "      <td>227</td>\n",
       "      <td>21</td>\n",
       "      <td>OTHER</td>\n",
       "    </tr>\n",
       "    <tr>\n",
       "      <th>1</th>\n",
       "      <td>35</td>\n",
       "      <td>44</td>\n",
       "      <td>235</td>\n",
       "      <td>3</td>\n",
       "      <td>308</td>\n",
       "      <td>21</td>\n",
       "      <td>OTHER</td>\n",
       "    </tr>\n",
       "    <tr>\n",
       "      <th>2</th>\n",
       "      <td>46</td>\n",
       "      <td>51</td>\n",
       "      <td>311</td>\n",
       "      <td>3</td>\n",
       "      <td>349</td>\n",
       "      <td>20</td>\n",
       "      <td>OTHER</td>\n",
       "    </tr>\n",
       "    <tr>\n",
       "      <th>3</th>\n",
       "      <td>53</td>\n",
       "      <td>60</td>\n",
       "      <td>352</td>\n",
       "      <td>3</td>\n",
       "      <td>401</td>\n",
       "      <td>20</td>\n",
       "      <td>OTHER</td>\n",
       "    </tr>\n",
       "    <tr>\n",
       "      <th>4</th>\n",
       "      <td>62</td>\n",
       "      <td>67</td>\n",
       "      <td>404</td>\n",
       "      <td>3</td>\n",
       "      <td>457</td>\n",
       "      <td>21</td>\n",
       "      <td>OTHER</td>\n",
       "    </tr>\n",
       "    <tr>\n",
       "      <th>...</th>\n",
       "      <td>...</td>\n",
       "      <td>...</td>\n",
       "      <td>...</td>\n",
       "      <td>...</td>\n",
       "      <td>...</td>\n",
       "      <td>...</td>\n",
       "      <td>...</td>\n",
       "    </tr>\n",
       "    <tr>\n",
       "      <th>237611</th>\n",
       "      <td>2325</td>\n",
       "      <td>2327</td>\n",
       "      <td>365</td>\n",
       "      <td>1064</td>\n",
       "      <td>385</td>\n",
       "      <td>1079</td>\n",
       "      <td>OTHER</td>\n",
       "    </tr>\n",
       "    <tr>\n",
       "      <th>237612</th>\n",
       "      <td>2329</td>\n",
       "      <td>2334</td>\n",
       "      <td>388</td>\n",
       "      <td>1064</td>\n",
       "      <td>429</td>\n",
       "      <td>1079</td>\n",
       "      <td>OTHER</td>\n",
       "    </tr>\n",
       "    <tr>\n",
       "      <th>237613</th>\n",
       "      <td>2336</td>\n",
       "      <td>2338</td>\n",
       "      <td>451</td>\n",
       "      <td>1063</td>\n",
       "      <td>482</td>\n",
       "      <td>1078</td>\n",
       "      <td>OTHER</td>\n",
       "    </tr>\n",
       "    <tr>\n",
       "      <th>237614</th>\n",
       "      <td>2340</td>\n",
       "      <td>2342</td>\n",
       "      <td>485</td>\n",
       "      <td>1063</td>\n",
       "      <td>509</td>\n",
       "      <td>1078</td>\n",
       "      <td>OTHER</td>\n",
       "    </tr>\n",
       "    <tr>\n",
       "      <th>237615</th>\n",
       "      <td>2344</td>\n",
       "      <td>2352</td>\n",
       "      <td>511</td>\n",
       "      <td>1063</td>\n",
       "      <td>572</td>\n",
       "      <td>1078</td>\n",
       "      <td>OTHER</td>\n",
       "    </tr>\n",
       "  </tbody>\n",
       "</table>\n",
       "<p>237616 rows × 7 columns</p>\n",
       "</div>"
      ],
      "text/plain": [
       "        start_index  end_index  top_left_x  top_left_y  bottom_right_x  \\\n",
       "0                33         33         215           4             227   \n",
       "1                35         44         235           3             308   \n",
       "2                46         51         311           3             349   \n",
       "3                53         60         352           3             401   \n",
       "4                62         67         404           3             457   \n",
       "...             ...        ...         ...         ...             ...   \n",
       "237611         2325       2327         365        1064             385   \n",
       "237612         2329       2334         388        1064             429   \n",
       "237613         2336       2338         451        1063             482   \n",
       "237614         2340       2342         485        1063             509   \n",
       "237615         2344       2352         511        1063             572   \n",
       "\n",
       "        bottom_right_y label_text  \n",
       "0                   21      OTHER  \n",
       "1                   21      OTHER  \n",
       "2                   20      OTHER  \n",
       "3                   20      OTHER  \n",
       "4                   21      OTHER  \n",
       "...                ...        ...  \n",
       "237611            1079      OTHER  \n",
       "237612            1079      OTHER  \n",
       "237613            1078      OTHER  \n",
       "237614            1078      OTHER  \n",
       "237615            1078      OTHER  \n",
       "\n",
       "[237616 rows x 7 columns]"
      ]
     },
     "execution_count": 5,
     "metadata": {},
     "output_type": "execute_result"
    }
   ],
   "source": [
    "dataframes =[]\n",
    "for file in list_items:\n",
    "    if file.endswith('.tsv'):\n",
    "        path = os.path.join(dir , file)\n",
    "        df = pd.read_csv(path, header =None, delimiter =',')\n",
    " \n",
    "        selected_columns = df.iloc[: , [0,1,2,3,4,5,7]]\n",
    "        dataframes.append(selected_columns)\n",
    "\n",
    "combined_data = pd.concat(dataframes, ignore_index=True)\n",
    "\n",
    "# Rename columns for clarity\n",
    "combined_data.columns = ['start_index' ,'end_index' ,'top_left_x', 'top_left_y', 'bottom_right_x', 'bottom_right_y', 'label_text' ]\n",
    "\n",
    "combined_data \n",
    "        "
   ]
  },
  {
   "cell_type": "code",
   "execution_count": 6,
   "id": "b0464f2e-fc01-446a-aa0b-e4cbe58001a0",
   "metadata": {},
   "outputs": [
    {
     "data": {
      "text/plain": [
       "array(['OTHER', 'ssnOfEmployee', 'einEmployerIdentificationNumber',\n",
       "       'box1WagesTipsAndOtherCompensations',\n",
       "       'box2FederalIncomeTaxWithheld', 'employerName',\n",
       "       'box3SocialSecurityWages', 'box4SocialSecurityTaxWithheld',\n",
       "       'employerAddressStreet_name', 'employerAddressZip',\n",
       "       'employerAddressCity', 'employerAddressState', 'employeeName',\n",
       "       'taxYear', 'box16StateWagesTips', 'box17StateIncomeTax'],\n",
       "      dtype=object)"
      ]
     },
     "execution_count": 6,
     "metadata": {},
     "output_type": "execute_result"
    }
   ],
   "source": [
    "combined_data['label_text'].unique()"
   ]
  },
  {
   "cell_type": "code",
   "execution_count": 7,
   "id": "ce4f7d75-244b-4f70-a6d8-7253b892b0f9",
   "metadata": {},
   "outputs": [
    {
     "name": "stdout",
     "output_type": "stream",
     "text": [
      "{'OTHER': 0, 'ssnOfEmployee': 1, 'einEmployerIdentificationNumber': 2, 'box1WagesTipsAndOtherCompensations': 3, 'box2FederalIncomeTaxWithheld': 4, 'employerName': 5, 'box3SocialSecurityWages': 6, 'box4SocialSecurityTaxWithheld': 7, 'employerAddressStreet_name': 8, 'employerAddressZip': 9, 'employerAddressCity': 10, 'employerAddressState': 11, 'employeeName': 12, 'taxYear': 13, 'box16StateWagesTips': 14, 'box17StateIncomeTax': 15}\n"
     ]
    },
    {
     "data": {
      "text/html": [
       "<div>\n",
       "<style scoped>\n",
       "    .dataframe tbody tr th:only-of-type {\n",
       "        vertical-align: middle;\n",
       "    }\n",
       "\n",
       "    .dataframe tbody tr th {\n",
       "        vertical-align: top;\n",
       "    }\n",
       "\n",
       "    .dataframe thead th {\n",
       "        text-align: right;\n",
       "    }\n",
       "</style>\n",
       "<table border=\"1\" class=\"dataframe\">\n",
       "  <thead>\n",
       "    <tr style=\"text-align: right;\">\n",
       "      <th></th>\n",
       "      <th>start_index</th>\n",
       "      <th>end_index</th>\n",
       "      <th>top_left_x</th>\n",
       "      <th>top_left_y</th>\n",
       "      <th>bottom_right_x</th>\n",
       "      <th>bottom_right_y</th>\n",
       "      <th>label_text</th>\n",
       "    </tr>\n",
       "  </thead>\n",
       "  <tbody>\n",
       "    <tr>\n",
       "      <th>0</th>\n",
       "      <td>33</td>\n",
       "      <td>33</td>\n",
       "      <td>215</td>\n",
       "      <td>4</td>\n",
       "      <td>227</td>\n",
       "      <td>21</td>\n",
       "      <td>0</td>\n",
       "    </tr>\n",
       "    <tr>\n",
       "      <th>1</th>\n",
       "      <td>35</td>\n",
       "      <td>44</td>\n",
       "      <td>235</td>\n",
       "      <td>3</td>\n",
       "      <td>308</td>\n",
       "      <td>21</td>\n",
       "      <td>0</td>\n",
       "    </tr>\n",
       "    <tr>\n",
       "      <th>2</th>\n",
       "      <td>46</td>\n",
       "      <td>51</td>\n",
       "      <td>311</td>\n",
       "      <td>3</td>\n",
       "      <td>349</td>\n",
       "      <td>20</td>\n",
       "      <td>0</td>\n",
       "    </tr>\n",
       "    <tr>\n",
       "      <th>3</th>\n",
       "      <td>53</td>\n",
       "      <td>60</td>\n",
       "      <td>352</td>\n",
       "      <td>3</td>\n",
       "      <td>401</td>\n",
       "      <td>20</td>\n",
       "      <td>0</td>\n",
       "    </tr>\n",
       "    <tr>\n",
       "      <th>4</th>\n",
       "      <td>62</td>\n",
       "      <td>67</td>\n",
       "      <td>404</td>\n",
       "      <td>3</td>\n",
       "      <td>457</td>\n",
       "      <td>21</td>\n",
       "      <td>0</td>\n",
       "    </tr>\n",
       "    <tr>\n",
       "      <th>...</th>\n",
       "      <td>...</td>\n",
       "      <td>...</td>\n",
       "      <td>...</td>\n",
       "      <td>...</td>\n",
       "      <td>...</td>\n",
       "      <td>...</td>\n",
       "      <td>...</td>\n",
       "    </tr>\n",
       "    <tr>\n",
       "      <th>237611</th>\n",
       "      <td>2325</td>\n",
       "      <td>2327</td>\n",
       "      <td>365</td>\n",
       "      <td>1064</td>\n",
       "      <td>385</td>\n",
       "      <td>1079</td>\n",
       "      <td>0</td>\n",
       "    </tr>\n",
       "    <tr>\n",
       "      <th>237612</th>\n",
       "      <td>2329</td>\n",
       "      <td>2334</td>\n",
       "      <td>388</td>\n",
       "      <td>1064</td>\n",
       "      <td>429</td>\n",
       "      <td>1079</td>\n",
       "      <td>0</td>\n",
       "    </tr>\n",
       "    <tr>\n",
       "      <th>237613</th>\n",
       "      <td>2336</td>\n",
       "      <td>2338</td>\n",
       "      <td>451</td>\n",
       "      <td>1063</td>\n",
       "      <td>482</td>\n",
       "      <td>1078</td>\n",
       "      <td>0</td>\n",
       "    </tr>\n",
       "    <tr>\n",
       "      <th>237614</th>\n",
       "      <td>2340</td>\n",
       "      <td>2342</td>\n",
       "      <td>485</td>\n",
       "      <td>1063</td>\n",
       "      <td>509</td>\n",
       "      <td>1078</td>\n",
       "      <td>0</td>\n",
       "    </tr>\n",
       "    <tr>\n",
       "      <th>237615</th>\n",
       "      <td>2344</td>\n",
       "      <td>2352</td>\n",
       "      <td>511</td>\n",
       "      <td>1063</td>\n",
       "      <td>572</td>\n",
       "      <td>1078</td>\n",
       "      <td>0</td>\n",
       "    </tr>\n",
       "  </tbody>\n",
       "</table>\n",
       "<p>237616 rows × 7 columns</p>\n",
       "</div>"
      ],
      "text/plain": [
       "        start_index  end_index  top_left_x  top_left_y  bottom_right_x  \\\n",
       "0                33         33         215           4             227   \n",
       "1                35         44         235           3             308   \n",
       "2                46         51         311           3             349   \n",
       "3                53         60         352           3             401   \n",
       "4                62         67         404           3             457   \n",
       "...             ...        ...         ...         ...             ...   \n",
       "237611         2325       2327         365        1064             385   \n",
       "237612         2329       2334         388        1064             429   \n",
       "237613         2336       2338         451        1063             482   \n",
       "237614         2340       2342         485        1063             509   \n",
       "237615         2344       2352         511        1063             572   \n",
       "\n",
       "        bottom_right_y  label_text  \n",
       "0                   21           0  \n",
       "1                   21           0  \n",
       "2                   20           0  \n",
       "3                   20           0  \n",
       "4                   21           0  \n",
       "...                ...         ...  \n",
       "237611            1079           0  \n",
       "237612            1079           0  \n",
       "237613            1078           0  \n",
       "237614            1078           0  \n",
       "237615            1078           0  \n",
       "\n",
       "[237616 rows x 7 columns]"
      ]
     },
     "execution_count": 7,
     "metadata": {},
     "output_type": "execute_result"
    }
   ],
   "source": [
    "attributes = [\n",
    "    'OTHER', 'ssnOfEmployee', 'einEmployerIdentificationNumber',\n",
    "    'box1WagesTipsAndOtherCompensations', 'box2FederalIncomeTaxWithheld', \n",
    "    'employerName', 'box3SocialSecurityWages', 'box4SocialSecurityTaxWithheld',\n",
    "    'employerAddressStreet_name', 'employerAddressZip',\n",
    "    'employerAddressCity', 'employerAddressState', 'employeeName',\n",
    "    'taxYear', 'box16StateWagesTips', 'box17StateIncomeTax'\n",
    "]\n",
    "\n",
    "# Create the dictionary mapping\n",
    "attribute_mapping = {attribute: idx for idx, attribute in enumerate(attributes)}\n",
    "\n",
    "print(attribute_mapping)\n",
    "combined_data['label_text'].replace(attribute_mapping , inplace=True)\n",
    "combined_data"
   ]
  },
  {
   "cell_type": "code",
   "execution_count": 8,
   "id": "0b0eee80-d25b-48a1-90bc-bd3d1ecae9e2",
   "metadata": {},
   "outputs": [],
   "source": [
    "X= combined_data[['start_index' ,'end_index','top_left_x', 'top_left_y', 'bottom_right_x', 'bottom_right_y' ]].values\n",
    "\n",
    "# Labels: Column 'class_label'\n",
    "Y = combined_data['label_text'].values"
   ]
  },
  {
   "cell_type": "code",
   "execution_count": 9,
   "id": "a8a6b2d9-1fc8-4876-8a08-90e50c8c8de6",
   "metadata": {},
   "outputs": [],
   "source": [
    "from sklearn.ensemble import RandomForestClassifier\n",
    "from sklearn.model_selection import train_test_split"
   ]
  },
  {
   "cell_type": "code",
   "execution_count": 10,
   "id": "1ba43285-f087-4a74-9777-67b65db2d73a",
   "metadata": {},
   "outputs": [],
   "source": [
    "X_train,X_test,y_train,y_test = train_test_split(X,Y,test_size=0.2,random_state=42)"
   ]
  },
  {
   "cell_type": "code",
   "execution_count": 11,
   "id": "6fd928fd-2f3a-4af5-a538-7e5f1d9162fa",
   "metadata": {},
   "outputs": [],
   "source": [
    "Rf = RandomForestClassifier()"
   ]
  },
  {
   "cell_type": "code",
   "execution_count": 12,
   "id": "6e63fb1f-fb15-440a-a092-b959b77d0bf2",
   "metadata": {
    "scrolled": true
   },
   "outputs": [
    {
     "data": {
      "text/html": [
       "<style>#sk-container-id-1 {color: black;background-color: white;}#sk-container-id-1 pre{padding: 0;}#sk-container-id-1 div.sk-toggleable {background-color: white;}#sk-container-id-1 label.sk-toggleable__label {cursor: pointer;display: block;width: 100%;margin-bottom: 0;padding: 0.3em;box-sizing: border-box;text-align: center;}#sk-container-id-1 label.sk-toggleable__label-arrow:before {content: \"▸\";float: left;margin-right: 0.25em;color: #696969;}#sk-container-id-1 label.sk-toggleable__label-arrow:hover:before {color: black;}#sk-container-id-1 div.sk-estimator:hover label.sk-toggleable__label-arrow:before {color: black;}#sk-container-id-1 div.sk-toggleable__content {max-height: 0;max-width: 0;overflow: hidden;text-align: left;background-color: #f0f8ff;}#sk-container-id-1 div.sk-toggleable__content pre {margin: 0.2em;color: black;border-radius: 0.25em;background-color: #f0f8ff;}#sk-container-id-1 input.sk-toggleable__control:checked~div.sk-toggleable__content {max-height: 200px;max-width: 100%;overflow: auto;}#sk-container-id-1 input.sk-toggleable__control:checked~label.sk-toggleable__label-arrow:before {content: \"▾\";}#sk-container-id-1 div.sk-estimator input.sk-toggleable__control:checked~label.sk-toggleable__label {background-color: #d4ebff;}#sk-container-id-1 div.sk-label input.sk-toggleable__control:checked~label.sk-toggleable__label {background-color: #d4ebff;}#sk-container-id-1 input.sk-hidden--visually {border: 0;clip: rect(1px 1px 1px 1px);clip: rect(1px, 1px, 1px, 1px);height: 1px;margin: -1px;overflow: hidden;padding: 0;position: absolute;width: 1px;}#sk-container-id-1 div.sk-estimator {font-family: monospace;background-color: #f0f8ff;border: 1px dotted black;border-radius: 0.25em;box-sizing: border-box;margin-bottom: 0.5em;}#sk-container-id-1 div.sk-estimator:hover {background-color: #d4ebff;}#sk-container-id-1 div.sk-parallel-item::after {content: \"\";width: 100%;border-bottom: 1px solid gray;flex-grow: 1;}#sk-container-id-1 div.sk-label:hover label.sk-toggleable__label {background-color: #d4ebff;}#sk-container-id-1 div.sk-serial::before {content: \"\";position: absolute;border-left: 1px solid gray;box-sizing: border-box;top: 0;bottom: 0;left: 50%;z-index: 0;}#sk-container-id-1 div.sk-serial {display: flex;flex-direction: column;align-items: center;background-color: white;padding-right: 0.2em;padding-left: 0.2em;position: relative;}#sk-container-id-1 div.sk-item {position: relative;z-index: 1;}#sk-container-id-1 div.sk-parallel {display: flex;align-items: stretch;justify-content: center;background-color: white;position: relative;}#sk-container-id-1 div.sk-item::before, #sk-container-id-1 div.sk-parallel-item::before {content: \"\";position: absolute;border-left: 1px solid gray;box-sizing: border-box;top: 0;bottom: 0;left: 50%;z-index: -1;}#sk-container-id-1 div.sk-parallel-item {display: flex;flex-direction: column;z-index: 1;position: relative;background-color: white;}#sk-container-id-1 div.sk-parallel-item:first-child::after {align-self: flex-end;width: 50%;}#sk-container-id-1 div.sk-parallel-item:last-child::after {align-self: flex-start;width: 50%;}#sk-container-id-1 div.sk-parallel-item:only-child::after {width: 0;}#sk-container-id-1 div.sk-dashed-wrapped {border: 1px dashed gray;margin: 0 0.4em 0.5em 0.4em;box-sizing: border-box;padding-bottom: 0.4em;background-color: white;}#sk-container-id-1 div.sk-label label {font-family: monospace;font-weight: bold;display: inline-block;line-height: 1.2em;}#sk-container-id-1 div.sk-label-container {text-align: center;}#sk-container-id-1 div.sk-container {/* jupyter's `normalize.less` sets `[hidden] { display: none; }` but bootstrap.min.css set `[hidden] { display: none !important; }` so we also need the `!important` here to be able to override the default hidden behavior on the sphinx rendered scikit-learn.org. See: https://github.com/scikit-learn/scikit-learn/issues/21755 */display: inline-block !important;position: relative;}#sk-container-id-1 div.sk-text-repr-fallback {display: none;}</style><div id=\"sk-container-id-1\" class=\"sk-top-container\"><div class=\"sk-text-repr-fallback\"><pre>RandomForestClassifier()</pre><b>In a Jupyter environment, please rerun this cell to show the HTML representation or trust the notebook. <br />On GitHub, the HTML representation is unable to render, please try loading this page with nbviewer.org.</b></div><div class=\"sk-container\" hidden><div class=\"sk-item\"><div class=\"sk-estimator sk-toggleable\"><input class=\"sk-toggleable__control sk-hidden--visually\" id=\"sk-estimator-id-1\" type=\"checkbox\" checked><label for=\"sk-estimator-id-1\" class=\"sk-toggleable__label sk-toggleable__label-arrow\">RandomForestClassifier</label><div class=\"sk-toggleable__content\"><pre>RandomForestClassifier()</pre></div></div></div></div></div>"
      ],
      "text/plain": [
       "RandomForestClassifier()"
      ]
     },
     "execution_count": 12,
     "metadata": {},
     "output_type": "execute_result"
    }
   ],
   "source": [
    "Rf.fit(X_train,y_train)"
   ]
  },
  {
   "cell_type": "markdown",
   "id": "b2208c24-e032-4f20-afa2-cf494e9d029c",
   "metadata": {},
   "source": [
    "### testing the data on splitted dataset"
   ]
  },
  {
   "cell_type": "code",
   "execution_count": 13,
   "id": "080f34b6-1dde-46d8-a9d1-b1cbe08d08c0",
   "metadata": {},
   "outputs": [
    {
     "data": {
      "text/plain": [
       "0.9868697921050417"
      ]
     },
     "execution_count": 13,
     "metadata": {},
     "output_type": "execute_result"
    }
   ],
   "source": [
    "y_pred =Rf.predict(X_test)\n",
    "from sklearn.metrics import accuracy_score\n",
    "accuracy_score(y_test , y_pred)\n"
   ]
  },
  {
   "cell_type": "markdown",
   "id": "e4d4560e-803c-4a96-aaaa-f3a568bec71b",
   "metadata": {},
   "source": [
    "### testing the model on new dataset"
   ]
  },
  {
   "cell_type": "code",
   "execution_count": 14,
   "id": "3c48eb1f-cca3-440b-9213-aa0337042a70",
   "metadata": {},
   "outputs": [
    {
     "data": {
      "text/html": [
       "<div>\n",
       "<style scoped>\n",
       "    .dataframe tbody tr th:only-of-type {\n",
       "        vertical-align: middle;\n",
       "    }\n",
       "\n",
       "    .dataframe tbody tr th {\n",
       "        vertical-align: top;\n",
       "    }\n",
       "\n",
       "    .dataframe thead th {\n",
       "        text-align: right;\n",
       "    }\n",
       "</style>\n",
       "<table border=\"1\" class=\"dataframe\">\n",
       "  <thead>\n",
       "    <tr style=\"text-align: right;\">\n",
       "      <th></th>\n",
       "      <th>start_index</th>\n",
       "      <th>end_index</th>\n",
       "      <th>top_left_x</th>\n",
       "      <th>top_left_y</th>\n",
       "      <th>bottom_right_x</th>\n",
       "      <th>bottom_right_y</th>\n",
       "      <th>label_text</th>\n",
       "    </tr>\n",
       "  </thead>\n",
       "  <tbody>\n",
       "    <tr>\n",
       "      <th>0</th>\n",
       "      <td>33</td>\n",
       "      <td>33</td>\n",
       "      <td>216</td>\n",
       "      <td>22</td>\n",
       "      <td>225</td>\n",
       "      <td>36</td>\n",
       "      <td>OTHER</td>\n",
       "    </tr>\n",
       "    <tr>\n",
       "      <th>1</th>\n",
       "      <td>35</td>\n",
       "      <td>44</td>\n",
       "      <td>235</td>\n",
       "      <td>21</td>\n",
       "      <td>309</td>\n",
       "      <td>36</td>\n",
       "      <td>OTHER</td>\n",
       "    </tr>\n",
       "    <tr>\n",
       "      <th>2</th>\n",
       "      <td>46</td>\n",
       "      <td>51</td>\n",
       "      <td>311</td>\n",
       "      <td>20</td>\n",
       "      <td>350</td>\n",
       "      <td>35</td>\n",
       "      <td>OTHER</td>\n",
       "    </tr>\n",
       "    <tr>\n",
       "      <th>3</th>\n",
       "      <td>53</td>\n",
       "      <td>60</td>\n",
       "      <td>353</td>\n",
       "      <td>19</td>\n",
       "      <td>402</td>\n",
       "      <td>34</td>\n",
       "      <td>OTHER</td>\n",
       "    </tr>\n",
       "    <tr>\n",
       "      <th>4</th>\n",
       "      <td>62</td>\n",
       "      <td>67</td>\n",
       "      <td>405</td>\n",
       "      <td>19</td>\n",
       "      <td>456</td>\n",
       "      <td>33</td>\n",
       "      <td>OTHER</td>\n",
       "    </tr>\n",
       "    <tr>\n",
       "      <th>...</th>\n",
       "      <td>...</td>\n",
       "      <td>...</td>\n",
       "      <td>...</td>\n",
       "      <td>...</td>\n",
       "      <td>...</td>\n",
       "      <td>...</td>\n",
       "      <td>...</td>\n",
       "    </tr>\n",
       "    <tr>\n",
       "      <th>80448</th>\n",
       "      <td>2335</td>\n",
       "      <td>2337</td>\n",
       "      <td>364</td>\n",
       "      <td>1064</td>\n",
       "      <td>386</td>\n",
       "      <td>1078</td>\n",
       "      <td>OTHER</td>\n",
       "    </tr>\n",
       "    <tr>\n",
       "      <th>80449</th>\n",
       "      <td>2339</td>\n",
       "      <td>2344</td>\n",
       "      <td>389</td>\n",
       "      <td>1063</td>\n",
       "      <td>430</td>\n",
       "      <td>1078</td>\n",
       "      <td>OTHER</td>\n",
       "    </tr>\n",
       "    <tr>\n",
       "      <th>80450</th>\n",
       "      <td>2346</td>\n",
       "      <td>2348</td>\n",
       "      <td>451</td>\n",
       "      <td>1063</td>\n",
       "      <td>482</td>\n",
       "      <td>1077</td>\n",
       "      <td>OTHER</td>\n",
       "    </tr>\n",
       "    <tr>\n",
       "      <th>80451</th>\n",
       "      <td>2350</td>\n",
       "      <td>2352</td>\n",
       "      <td>484</td>\n",
       "      <td>1064</td>\n",
       "      <td>508</td>\n",
       "      <td>1077</td>\n",
       "      <td>OTHER</td>\n",
       "    </tr>\n",
       "    <tr>\n",
       "      <th>80452</th>\n",
       "      <td>2354</td>\n",
       "      <td>2362</td>\n",
       "      <td>510</td>\n",
       "      <td>1063</td>\n",
       "      <td>569</td>\n",
       "      <td>1077</td>\n",
       "      <td>OTHER</td>\n",
       "    </tr>\n",
       "  </tbody>\n",
       "</table>\n",
       "<p>80453 rows × 7 columns</p>\n",
       "</div>"
      ],
      "text/plain": [
       "       start_index  end_index  top_left_x  top_left_y  bottom_right_x  \\\n",
       "0               33         33         216          22             225   \n",
       "1               35         44         235          21             309   \n",
       "2               46         51         311          20             350   \n",
       "3               53         60         353          19             402   \n",
       "4               62         67         405          19             456   \n",
       "...            ...        ...         ...         ...             ...   \n",
       "80448         2335       2337         364        1064             386   \n",
       "80449         2339       2344         389        1063             430   \n",
       "80450         2346       2348         451        1063             482   \n",
       "80451         2350       2352         484        1064             508   \n",
       "80452         2354       2362         510        1063             569   \n",
       "\n",
       "       bottom_right_y label_text  \n",
       "0                  36      OTHER  \n",
       "1                  36      OTHER  \n",
       "2                  35      OTHER  \n",
       "3                  34      OTHER  \n",
       "4                  33      OTHER  \n",
       "...               ...        ...  \n",
       "80448            1078      OTHER  \n",
       "80449            1078      OTHER  \n",
       "80450            1077      OTHER  \n",
       "80451            1077      OTHER  \n",
       "80452            1077      OTHER  \n",
       "\n",
       "[80453 rows x 7 columns]"
      ]
     },
     "execution_count": 14,
     "metadata": {},
     "output_type": "execute_result"
    }
   ],
   "source": [
    "import os\n",
    "\n",
    "directory = r'C:\\Users\\HP\\Downloads\\proj\\dataset\\val_w_ann\\boxes_transcripts_labels'\n",
    "test_list_items = os.listdir(directory)\n",
    "tsv_files=[]\n",
    "for item in test_list_items:\n",
    "    if item.endswith('.tsv'):\n",
    "        full_path = os.path.join(directory,item)\n",
    "        tsv_files.append(full_path)\n",
    "\n",
    "# print(tsv_files)\n",
    "dataframes =[]\n",
    "for file in tsv_files:\n",
    "    df = pd.read_csv(file ,header =None, delimiter =',')\n",
    "    selected_columns = df.iloc[: , [0,1,2,3,4,5,7]]\n",
    "    dataframes.append(selected_columns)\n",
    "\n",
    "combined_data_test = pd.concat(dataframes, ignore_index=True)\n",
    "\n",
    "# Rename columns for clarity\n",
    "combined_data_test.columns = ['start_index' ,'end_index' ,'top_left_x', 'top_left_y', 'bottom_right_x', 'bottom_right_y', 'label_text' ]\n",
    "\n",
    "combined_data_test"
   ]
  },
  {
   "cell_type": "code",
   "execution_count": 15,
   "id": "ff245a41-2782-49a2-996d-57e478163839",
   "metadata": {
    "scrolled": true
   },
   "outputs": [
    {
     "data": {
      "text/html": [
       "<div>\n",
       "<style scoped>\n",
       "    .dataframe tbody tr th:only-of-type {\n",
       "        vertical-align: middle;\n",
       "    }\n",
       "\n",
       "    .dataframe tbody tr th {\n",
       "        vertical-align: top;\n",
       "    }\n",
       "\n",
       "    .dataframe thead th {\n",
       "        text-align: right;\n",
       "    }\n",
       "</style>\n",
       "<table border=\"1\" class=\"dataframe\">\n",
       "  <thead>\n",
       "    <tr style=\"text-align: right;\">\n",
       "      <th></th>\n",
       "      <th>start_index</th>\n",
       "      <th>end_index</th>\n",
       "      <th>top_left_x</th>\n",
       "      <th>top_left_y</th>\n",
       "      <th>bottom_right_x</th>\n",
       "      <th>bottom_right_y</th>\n",
       "      <th>label_text</th>\n",
       "    </tr>\n",
       "  </thead>\n",
       "  <tbody>\n",
       "    <tr>\n",
       "      <th>0</th>\n",
       "      <td>33</td>\n",
       "      <td>33</td>\n",
       "      <td>216</td>\n",
       "      <td>22</td>\n",
       "      <td>225</td>\n",
       "      <td>36</td>\n",
       "      <td>0</td>\n",
       "    </tr>\n",
       "    <tr>\n",
       "      <th>1</th>\n",
       "      <td>35</td>\n",
       "      <td>44</td>\n",
       "      <td>235</td>\n",
       "      <td>21</td>\n",
       "      <td>309</td>\n",
       "      <td>36</td>\n",
       "      <td>0</td>\n",
       "    </tr>\n",
       "    <tr>\n",
       "      <th>2</th>\n",
       "      <td>46</td>\n",
       "      <td>51</td>\n",
       "      <td>311</td>\n",
       "      <td>20</td>\n",
       "      <td>350</td>\n",
       "      <td>35</td>\n",
       "      <td>0</td>\n",
       "    </tr>\n",
       "    <tr>\n",
       "      <th>3</th>\n",
       "      <td>53</td>\n",
       "      <td>60</td>\n",
       "      <td>353</td>\n",
       "      <td>19</td>\n",
       "      <td>402</td>\n",
       "      <td>34</td>\n",
       "      <td>0</td>\n",
       "    </tr>\n",
       "    <tr>\n",
       "      <th>4</th>\n",
       "      <td>62</td>\n",
       "      <td>67</td>\n",
       "      <td>405</td>\n",
       "      <td>19</td>\n",
       "      <td>456</td>\n",
       "      <td>33</td>\n",
       "      <td>0</td>\n",
       "    </tr>\n",
       "    <tr>\n",
       "      <th>...</th>\n",
       "      <td>...</td>\n",
       "      <td>...</td>\n",
       "      <td>...</td>\n",
       "      <td>...</td>\n",
       "      <td>...</td>\n",
       "      <td>...</td>\n",
       "      <td>...</td>\n",
       "    </tr>\n",
       "    <tr>\n",
       "      <th>80448</th>\n",
       "      <td>2335</td>\n",
       "      <td>2337</td>\n",
       "      <td>364</td>\n",
       "      <td>1064</td>\n",
       "      <td>386</td>\n",
       "      <td>1078</td>\n",
       "      <td>0</td>\n",
       "    </tr>\n",
       "    <tr>\n",
       "      <th>80449</th>\n",
       "      <td>2339</td>\n",
       "      <td>2344</td>\n",
       "      <td>389</td>\n",
       "      <td>1063</td>\n",
       "      <td>430</td>\n",
       "      <td>1078</td>\n",
       "      <td>0</td>\n",
       "    </tr>\n",
       "    <tr>\n",
       "      <th>80450</th>\n",
       "      <td>2346</td>\n",
       "      <td>2348</td>\n",
       "      <td>451</td>\n",
       "      <td>1063</td>\n",
       "      <td>482</td>\n",
       "      <td>1077</td>\n",
       "      <td>0</td>\n",
       "    </tr>\n",
       "    <tr>\n",
       "      <th>80451</th>\n",
       "      <td>2350</td>\n",
       "      <td>2352</td>\n",
       "      <td>484</td>\n",
       "      <td>1064</td>\n",
       "      <td>508</td>\n",
       "      <td>1077</td>\n",
       "      <td>0</td>\n",
       "    </tr>\n",
       "    <tr>\n",
       "      <th>80452</th>\n",
       "      <td>2354</td>\n",
       "      <td>2362</td>\n",
       "      <td>510</td>\n",
       "      <td>1063</td>\n",
       "      <td>569</td>\n",
       "      <td>1077</td>\n",
       "      <td>0</td>\n",
       "    </tr>\n",
       "  </tbody>\n",
       "</table>\n",
       "<p>80453 rows × 7 columns</p>\n",
       "</div>"
      ],
      "text/plain": [
       "       start_index  end_index  top_left_x  top_left_y  bottom_right_x  \\\n",
       "0               33         33         216          22             225   \n",
       "1               35         44         235          21             309   \n",
       "2               46         51         311          20             350   \n",
       "3               53         60         353          19             402   \n",
       "4               62         67         405          19             456   \n",
       "...            ...        ...         ...         ...             ...   \n",
       "80448         2335       2337         364        1064             386   \n",
       "80449         2339       2344         389        1063             430   \n",
       "80450         2346       2348         451        1063             482   \n",
       "80451         2350       2352         484        1064             508   \n",
       "80452         2354       2362         510        1063             569   \n",
       "\n",
       "       bottom_right_y  label_text  \n",
       "0                  36           0  \n",
       "1                  36           0  \n",
       "2                  35           0  \n",
       "3                  34           0  \n",
       "4                  33           0  \n",
       "...               ...         ...  \n",
       "80448            1078           0  \n",
       "80449            1078           0  \n",
       "80450            1077           0  \n",
       "80451            1077           0  \n",
       "80452            1077           0  \n",
       "\n",
       "[80453 rows x 7 columns]"
      ]
     },
     "execution_count": 15,
     "metadata": {},
     "output_type": "execute_result"
    }
   ],
   "source": [
    "combined_data_test['label_text'].replace(attribute_mapping , inplace=True)\n",
    "combined_data_test"
   ]
  },
  {
   "cell_type": "code",
   "execution_count": 16,
   "id": "430b4992-f860-430b-945f-0dbf92860a21",
   "metadata": {},
   "outputs": [],
   "source": [
    "Xtest= combined_data_test.iloc[: ,0:6].values\n",
    "Ytest =combined_data_test.iloc[: ,6].values\n"
   ]
  },
  {
   "cell_type": "code",
   "execution_count": 17,
   "id": "12090d2c-6586-4196-8fc5-bdf85ffbf64e",
   "metadata": {},
   "outputs": [
    {
     "data": {
      "text/plain": [
       "0.9920947634022348"
      ]
     },
     "execution_count": 17,
     "metadata": {},
     "output_type": "execute_result"
    }
   ],
   "source": [
    "y_new_test_pred =Rf.predict(Xtest)\n",
    "accuracy_score(y_new_test_pred ,Ytest)"
   ]
  },
  {
   "cell_type": "markdown",
   "id": "f1368bc1-fef8-4484-91bd-8bfc38c933fa",
   "metadata": {},
   "source": [
    "## now training the model without splitting the data "
   ]
  },
  {
   "cell_type": "code",
   "execution_count": 18,
   "id": "c5f99cb1-d510-48a4-820d-2dffd447d584",
   "metadata": {},
   "outputs": [],
   "source": [
    "Rf2 = RandomForestClassifier()"
   ]
  },
  {
   "cell_type": "code",
   "execution_count": 19,
   "id": "4981d2e6-ef03-4e3d-b39b-01e3ac0bde51",
   "metadata": {},
   "outputs": [
    {
     "data": {
      "text/html": [
       "<style>#sk-container-id-2 {color: black;background-color: white;}#sk-container-id-2 pre{padding: 0;}#sk-container-id-2 div.sk-toggleable {background-color: white;}#sk-container-id-2 label.sk-toggleable__label {cursor: pointer;display: block;width: 100%;margin-bottom: 0;padding: 0.3em;box-sizing: border-box;text-align: center;}#sk-container-id-2 label.sk-toggleable__label-arrow:before {content: \"▸\";float: left;margin-right: 0.25em;color: #696969;}#sk-container-id-2 label.sk-toggleable__label-arrow:hover:before {color: black;}#sk-container-id-2 div.sk-estimator:hover label.sk-toggleable__label-arrow:before {color: black;}#sk-container-id-2 div.sk-toggleable__content {max-height: 0;max-width: 0;overflow: hidden;text-align: left;background-color: #f0f8ff;}#sk-container-id-2 div.sk-toggleable__content pre {margin: 0.2em;color: black;border-radius: 0.25em;background-color: #f0f8ff;}#sk-container-id-2 input.sk-toggleable__control:checked~div.sk-toggleable__content {max-height: 200px;max-width: 100%;overflow: auto;}#sk-container-id-2 input.sk-toggleable__control:checked~label.sk-toggleable__label-arrow:before {content: \"▾\";}#sk-container-id-2 div.sk-estimator input.sk-toggleable__control:checked~label.sk-toggleable__label {background-color: #d4ebff;}#sk-container-id-2 div.sk-label input.sk-toggleable__control:checked~label.sk-toggleable__label {background-color: #d4ebff;}#sk-container-id-2 input.sk-hidden--visually {border: 0;clip: rect(1px 1px 1px 1px);clip: rect(1px, 1px, 1px, 1px);height: 1px;margin: -1px;overflow: hidden;padding: 0;position: absolute;width: 1px;}#sk-container-id-2 div.sk-estimator {font-family: monospace;background-color: #f0f8ff;border: 1px dotted black;border-radius: 0.25em;box-sizing: border-box;margin-bottom: 0.5em;}#sk-container-id-2 div.sk-estimator:hover {background-color: #d4ebff;}#sk-container-id-2 div.sk-parallel-item::after {content: \"\";width: 100%;border-bottom: 1px solid gray;flex-grow: 1;}#sk-container-id-2 div.sk-label:hover label.sk-toggleable__label {background-color: #d4ebff;}#sk-container-id-2 div.sk-serial::before {content: \"\";position: absolute;border-left: 1px solid gray;box-sizing: border-box;top: 0;bottom: 0;left: 50%;z-index: 0;}#sk-container-id-2 div.sk-serial {display: flex;flex-direction: column;align-items: center;background-color: white;padding-right: 0.2em;padding-left: 0.2em;position: relative;}#sk-container-id-2 div.sk-item {position: relative;z-index: 1;}#sk-container-id-2 div.sk-parallel {display: flex;align-items: stretch;justify-content: center;background-color: white;position: relative;}#sk-container-id-2 div.sk-item::before, #sk-container-id-2 div.sk-parallel-item::before {content: \"\";position: absolute;border-left: 1px solid gray;box-sizing: border-box;top: 0;bottom: 0;left: 50%;z-index: -1;}#sk-container-id-2 div.sk-parallel-item {display: flex;flex-direction: column;z-index: 1;position: relative;background-color: white;}#sk-container-id-2 div.sk-parallel-item:first-child::after {align-self: flex-end;width: 50%;}#sk-container-id-2 div.sk-parallel-item:last-child::after {align-self: flex-start;width: 50%;}#sk-container-id-2 div.sk-parallel-item:only-child::after {width: 0;}#sk-container-id-2 div.sk-dashed-wrapped {border: 1px dashed gray;margin: 0 0.4em 0.5em 0.4em;box-sizing: border-box;padding-bottom: 0.4em;background-color: white;}#sk-container-id-2 div.sk-label label {font-family: monospace;font-weight: bold;display: inline-block;line-height: 1.2em;}#sk-container-id-2 div.sk-label-container {text-align: center;}#sk-container-id-2 div.sk-container {/* jupyter's `normalize.less` sets `[hidden] { display: none; }` but bootstrap.min.css set `[hidden] { display: none !important; }` so we also need the `!important` here to be able to override the default hidden behavior on the sphinx rendered scikit-learn.org. See: https://github.com/scikit-learn/scikit-learn/issues/21755 */display: inline-block !important;position: relative;}#sk-container-id-2 div.sk-text-repr-fallback {display: none;}</style><div id=\"sk-container-id-2\" class=\"sk-top-container\"><div class=\"sk-text-repr-fallback\"><pre>RandomForestClassifier()</pre><b>In a Jupyter environment, please rerun this cell to show the HTML representation or trust the notebook. <br />On GitHub, the HTML representation is unable to render, please try loading this page with nbviewer.org.</b></div><div class=\"sk-container\" hidden><div class=\"sk-item\"><div class=\"sk-estimator sk-toggleable\"><input class=\"sk-toggleable__control sk-hidden--visually\" id=\"sk-estimator-id-2\" type=\"checkbox\" checked><label for=\"sk-estimator-id-2\" class=\"sk-toggleable__label sk-toggleable__label-arrow\">RandomForestClassifier</label><div class=\"sk-toggleable__content\"><pre>RandomForestClassifier()</pre></div></div></div></div></div>"
      ],
      "text/plain": [
       "RandomForestClassifier()"
      ]
     },
     "execution_count": 19,
     "metadata": {},
     "output_type": "execute_result"
    }
   ],
   "source": [
    "Rf2.fit(X,Y)"
   ]
  },
  {
   "cell_type": "code",
   "execution_count": 20,
   "id": "d7d5b786-b1d8-4f95-b47b-804a2e022774",
   "metadata": {},
   "outputs": [
    {
     "data": {
      "text/plain": [
       "0.9927783923532995"
      ]
     },
     "execution_count": 20,
     "metadata": {},
     "output_type": "execute_result"
    }
   ],
   "source": [
    "predictions =Rf2.predict(Xtest)\n",
    "accuracy_score(Ytest ,predictions)"
   ]
  },
  {
   "cell_type": "code",
   "execution_count": null,
   "id": "6e4cff4f-54a6-4814-92ab-18f2bc4fd7c6",
   "metadata": {},
   "outputs": [],
   "source": []
  },
  {
   "cell_type": "markdown",
   "id": "e9057d8d-3d92-4e95-9d06-c5014d319452",
   "metadata": {},
   "source": [
    "### hyper tuning the parameters "
   ]
  },
  {
   "cell_type": "code",
   "execution_count": 21,
   "id": "d211c7b1-e4fb-470e-b3b2-c38ce3f86252",
   "metadata": {},
   "outputs": [],
   "source": [
    "from sklearn.model_selection import GridSearchCV"
   ]
  },
  {
   "cell_type": "code",
   "execution_count": 22,
   "id": "338d5f6f-1de3-4fcd-8603-3e1e8302f8d0",
   "metadata": {},
   "outputs": [],
   "source": [
    "Rf3 = RandomForestClassifier()"
   ]
  },
  {
   "cell_type": "code",
   "execution_count": 23,
   "id": "4d4b51b8-8eed-4174-8974-ca0c9bde6254",
   "metadata": {},
   "outputs": [],
   "source": [
    "param_grid = {\n",
    "    'n_estimators': [60, 100, 120, 150],           # Number of trees\n",
    "    'max_features': [0.2, 0.6, 1.0],               # Fraction of features per split\n",
    "    'max_depth': [8, 12, 15, None],                 # Max depth of trees\n",
    "    'max_samples': [0.5, 0.75, 1.0],                # Fraction of samples for training each tree\n",
    "    'bootstrap': [True],\n",
    "    'min_samples_split': [5, 10],                   # Min samples to split a node\n",
    "    'min_samples_leaf': [2, 3]                      # Min samples per leaf node\n",
    "}"
   ]
  },
  {
   "cell_type": "code",
   "execution_count": 24,
   "id": "a6d1c433-523d-4768-84d4-12be37d6d6fe",
   "metadata": {},
   "outputs": [],
   "source": [
    "# grid_rf = GridSearchCV(estimator =Rf , param_grid =param_grid , cv=5,verbose =2 )"
   ]
  },
  {
   "cell_type": "markdown",
   "id": "ecd58680-8aae-4b4f-955f-3bd552db9656",
   "metadata": {},
   "source": [
    "### 50 random forests in each (randomly parameters are picked from param_grid)"
   ]
  },
  {
   "cell_type": "code",
   "execution_count": 25,
   "id": "3a5994d2-5abb-430b-82d3-dce09ddd5485",
   "metadata": {},
   "outputs": [],
   "source": [
    "from sklearn.model_selection import RandomizedSearchCV\n",
    "\n",
    "rf3_grid = RandomizedSearchCV(estimator = Rf3, \n",
    "                       param_distributions = param_grid,\n",
    "                    n_iter=20, \n",
    "                              \n",
    "                       cv = 5, \n",
    "                       verbose=2, \n",
    "                       n_jobs = -1)"
   ]
  },
  {
   "cell_type": "code",
   "execution_count": 26,
   "id": "e6945591-81df-4f9e-bb97-739295be7c74",
   "metadata": {},
   "outputs": [
    {
     "name": "stdout",
     "output_type": "stream",
     "text": [
      "Fitting 5 folds for each of 20 candidates, totalling 100 fits\n"
     ]
    },
    {
     "data": {
      "text/html": [
       "<style>#sk-container-id-3 {color: black;background-color: white;}#sk-container-id-3 pre{padding: 0;}#sk-container-id-3 div.sk-toggleable {background-color: white;}#sk-container-id-3 label.sk-toggleable__label {cursor: pointer;display: block;width: 100%;margin-bottom: 0;padding: 0.3em;box-sizing: border-box;text-align: center;}#sk-container-id-3 label.sk-toggleable__label-arrow:before {content: \"▸\";float: left;margin-right: 0.25em;color: #696969;}#sk-container-id-3 label.sk-toggleable__label-arrow:hover:before {color: black;}#sk-container-id-3 div.sk-estimator:hover label.sk-toggleable__label-arrow:before {color: black;}#sk-container-id-3 div.sk-toggleable__content {max-height: 0;max-width: 0;overflow: hidden;text-align: left;background-color: #f0f8ff;}#sk-container-id-3 div.sk-toggleable__content pre {margin: 0.2em;color: black;border-radius: 0.25em;background-color: #f0f8ff;}#sk-container-id-3 input.sk-toggleable__control:checked~div.sk-toggleable__content {max-height: 200px;max-width: 100%;overflow: auto;}#sk-container-id-3 input.sk-toggleable__control:checked~label.sk-toggleable__label-arrow:before {content: \"▾\";}#sk-container-id-3 div.sk-estimator input.sk-toggleable__control:checked~label.sk-toggleable__label {background-color: #d4ebff;}#sk-container-id-3 div.sk-label input.sk-toggleable__control:checked~label.sk-toggleable__label {background-color: #d4ebff;}#sk-container-id-3 input.sk-hidden--visually {border: 0;clip: rect(1px 1px 1px 1px);clip: rect(1px, 1px, 1px, 1px);height: 1px;margin: -1px;overflow: hidden;padding: 0;position: absolute;width: 1px;}#sk-container-id-3 div.sk-estimator {font-family: monospace;background-color: #f0f8ff;border: 1px dotted black;border-radius: 0.25em;box-sizing: border-box;margin-bottom: 0.5em;}#sk-container-id-3 div.sk-estimator:hover {background-color: #d4ebff;}#sk-container-id-3 div.sk-parallel-item::after {content: \"\";width: 100%;border-bottom: 1px solid gray;flex-grow: 1;}#sk-container-id-3 div.sk-label:hover label.sk-toggleable__label {background-color: #d4ebff;}#sk-container-id-3 div.sk-serial::before {content: \"\";position: absolute;border-left: 1px solid gray;box-sizing: border-box;top: 0;bottom: 0;left: 50%;z-index: 0;}#sk-container-id-3 div.sk-serial {display: flex;flex-direction: column;align-items: center;background-color: white;padding-right: 0.2em;padding-left: 0.2em;position: relative;}#sk-container-id-3 div.sk-item {position: relative;z-index: 1;}#sk-container-id-3 div.sk-parallel {display: flex;align-items: stretch;justify-content: center;background-color: white;position: relative;}#sk-container-id-3 div.sk-item::before, #sk-container-id-3 div.sk-parallel-item::before {content: \"\";position: absolute;border-left: 1px solid gray;box-sizing: border-box;top: 0;bottom: 0;left: 50%;z-index: -1;}#sk-container-id-3 div.sk-parallel-item {display: flex;flex-direction: column;z-index: 1;position: relative;background-color: white;}#sk-container-id-3 div.sk-parallel-item:first-child::after {align-self: flex-end;width: 50%;}#sk-container-id-3 div.sk-parallel-item:last-child::after {align-self: flex-start;width: 50%;}#sk-container-id-3 div.sk-parallel-item:only-child::after {width: 0;}#sk-container-id-3 div.sk-dashed-wrapped {border: 1px dashed gray;margin: 0 0.4em 0.5em 0.4em;box-sizing: border-box;padding-bottom: 0.4em;background-color: white;}#sk-container-id-3 div.sk-label label {font-family: monospace;font-weight: bold;display: inline-block;line-height: 1.2em;}#sk-container-id-3 div.sk-label-container {text-align: center;}#sk-container-id-3 div.sk-container {/* jupyter's `normalize.less` sets `[hidden] { display: none; }` but bootstrap.min.css set `[hidden] { display: none !important; }` so we also need the `!important` here to be able to override the default hidden behavior on the sphinx rendered scikit-learn.org. See: https://github.com/scikit-learn/scikit-learn/issues/21755 */display: inline-block !important;position: relative;}#sk-container-id-3 div.sk-text-repr-fallback {display: none;}</style><div id=\"sk-container-id-3\" class=\"sk-top-container\"><div class=\"sk-text-repr-fallback\"><pre>RandomizedSearchCV(cv=5, estimator=RandomForestClassifier(), n_iter=20,\n",
       "                   n_jobs=-1,\n",
       "                   param_distributions={&#x27;bootstrap&#x27;: [True],\n",
       "                                        &#x27;max_depth&#x27;: [8, 12, 15, None],\n",
       "                                        &#x27;max_features&#x27;: [0.2, 0.6, 1.0],\n",
       "                                        &#x27;max_samples&#x27;: [0.5, 0.75, 1.0],\n",
       "                                        &#x27;min_samples_leaf&#x27;: [2, 3],\n",
       "                                        &#x27;min_samples_split&#x27;: [5, 10],\n",
       "                                        &#x27;n_estimators&#x27;: [60, 100, 120, 150]},\n",
       "                   verbose=2)</pre><b>In a Jupyter environment, please rerun this cell to show the HTML representation or trust the notebook. <br />On GitHub, the HTML representation is unable to render, please try loading this page with nbviewer.org.</b></div><div class=\"sk-container\" hidden><div class=\"sk-item sk-dashed-wrapped\"><div class=\"sk-label-container\"><div class=\"sk-label sk-toggleable\"><input class=\"sk-toggleable__control sk-hidden--visually\" id=\"sk-estimator-id-3\" type=\"checkbox\" ><label for=\"sk-estimator-id-3\" class=\"sk-toggleable__label sk-toggleable__label-arrow\">RandomizedSearchCV</label><div class=\"sk-toggleable__content\"><pre>RandomizedSearchCV(cv=5, estimator=RandomForestClassifier(), n_iter=20,\n",
       "                   n_jobs=-1,\n",
       "                   param_distributions={&#x27;bootstrap&#x27;: [True],\n",
       "                                        &#x27;max_depth&#x27;: [8, 12, 15, None],\n",
       "                                        &#x27;max_features&#x27;: [0.2, 0.6, 1.0],\n",
       "                                        &#x27;max_samples&#x27;: [0.5, 0.75, 1.0],\n",
       "                                        &#x27;min_samples_leaf&#x27;: [2, 3],\n",
       "                                        &#x27;min_samples_split&#x27;: [5, 10],\n",
       "                                        &#x27;n_estimators&#x27;: [60, 100, 120, 150]},\n",
       "                   verbose=2)</pre></div></div></div><div class=\"sk-parallel\"><div class=\"sk-parallel-item\"><div class=\"sk-item\"><div class=\"sk-label-container\"><div class=\"sk-label sk-toggleable\"><input class=\"sk-toggleable__control sk-hidden--visually\" id=\"sk-estimator-id-4\" type=\"checkbox\" ><label for=\"sk-estimator-id-4\" class=\"sk-toggleable__label sk-toggleable__label-arrow\">estimator: RandomForestClassifier</label><div class=\"sk-toggleable__content\"><pre>RandomForestClassifier()</pre></div></div></div><div class=\"sk-serial\"><div class=\"sk-item\"><div class=\"sk-estimator sk-toggleable\"><input class=\"sk-toggleable__control sk-hidden--visually\" id=\"sk-estimator-id-5\" type=\"checkbox\" ><label for=\"sk-estimator-id-5\" class=\"sk-toggleable__label sk-toggleable__label-arrow\">RandomForestClassifier</label><div class=\"sk-toggleable__content\"><pre>RandomForestClassifier()</pre></div></div></div></div></div></div></div></div></div></div>"
      ],
      "text/plain": [
       "RandomizedSearchCV(cv=5, estimator=RandomForestClassifier(), n_iter=20,\n",
       "                   n_jobs=-1,\n",
       "                   param_distributions={'bootstrap': [True],\n",
       "                                        'max_depth': [8, 12, 15, None],\n",
       "                                        'max_features': [0.2, 0.6, 1.0],\n",
       "                                        'max_samples': [0.5, 0.75, 1.0],\n",
       "                                        'min_samples_leaf': [2, 3],\n",
       "                                        'min_samples_split': [5, 10],\n",
       "                                        'n_estimators': [60, 100, 120, 150]},\n",
       "                   verbose=2)"
      ]
     },
     "execution_count": 26,
     "metadata": {},
     "output_type": "execute_result"
    }
   ],
   "source": [
    "rf3_grid.fit(X,Y)"
   ]
  },
  {
   "cell_type": "code",
   "execution_count": 30,
   "id": "98eab8fd-7a8c-4af7-9548-cfc06d796595",
   "metadata": {
    "scrolled": true
   },
   "outputs": [
    {
     "data": {
      "text/plain": [
       "0.9925049407728737"
      ]
     },
     "execution_count": 30,
     "metadata": {},
     "output_type": "execute_result"
    }
   ],
   "source": [
    "predic3 =rf3_grid.predict(Xtest)\n",
    "accuracy_score(Ytest ,predic3)"
   ]
  },
  {
   "cell_type": "code",
   "execution_count": 32,
   "id": "893ff851-721b-4406-9605-8d2b7456a662",
   "metadata": {},
   "outputs": [],
   "source": [
    "# Rf4 = RandomForestClassifier()"
   ]
  },
  {
   "cell_type": "code",
   "execution_count": 33,
   "id": "3a05d268-7e18-4077-8f91-f597e1181caf",
   "metadata": {},
   "outputs": [],
   "source": [
    "# grid_rf = GridSearchCV(estimator =Rf4 , param_grid =param_grid , cv=5,verbose=1 )"
   ]
  },
  {
   "cell_type": "code",
   "execution_count": null,
   "id": "aecb2215-8604-4d49-9e05-9efac0edbe60",
   "metadata": {},
   "outputs": [],
   "source": []
  }
 ],
 "metadata": {
  "kernelspec": {
   "display_name": "Python 3 (ipykernel)",
   "language": "python",
   "name": "python3"
  },
  "language_info": {
   "codemirror_mode": {
    "name": "ipython",
    "version": 3
   },
   "file_extension": ".py",
   "mimetype": "text/x-python",
   "name": "python",
   "nbconvert_exporter": "python",
   "pygments_lexer": "ipython3",
   "version": "3.11.7"
  }
 },
 "nbformat": 4,
 "nbformat_minor": 5
}
